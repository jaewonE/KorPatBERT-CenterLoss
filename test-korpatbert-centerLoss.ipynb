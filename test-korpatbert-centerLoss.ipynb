{
 "cells": [
  {
   "cell_type": "code",
   "execution_count": null,
   "metadata": {},
   "outputs": [
    {
     "name": "stderr",
     "output_type": "stream",
     "text": [
      "2024-11-29 13:40:10.264514: I tensorflow/stream_executor/platform/default/dso_loader.cc:53] Successfully opened dynamic library libcudart.so.11.0\n",
      "/home/billy/anaconda3/envs/korpatbert/lib/python3.8/site-packages/tensorflow_addons/utils/ensure_tf_install.py:53: UserWarning: Tensorflow Addons supports using Python ops for all Tensorflow versions above or equal to 2.6.0 and strictly below 2.9.0 (nightly versions are not supported). \n",
      " The versions of TensorFlow you are currently using is 2.5.0 and is not supported. \n",
      "Some things might work, some things might not.\n",
      "If you were to encounter a bug, do not file an issue.\n",
      "If you want to make sure you're using a tested and supported configuration, either change the TensorFlow version or the TensorFlow Addons's version. \n",
      "You can find the compatibility matrix in TensorFlow Addon's readme:\n",
      "https://github.com/tensorflow/addons\n",
      "  warnings.warn(\n"
     ]
    },
    {
     "name": "stdout",
     "output_type": "stream",
     "text": [
      "TensorFlow version: 2.5.0\n",
      "Fri Nov 29 13:40:11 2024       \n",
      "+-----------------------------------------------------------------------------------------+\n",
      "| NVIDIA-SMI 560.28.03              Driver Version: 560.28.03      CUDA Version: 12.6     |\n",
      "|-----------------------------------------+------------------------+----------------------+\n",
      "| GPU  Name                 Persistence-M | Bus-Id          Disp.A | Volatile Uncorr. ECC |\n",
      "| Fan  Temp   Perf          Pwr:Usage/Cap |           Memory-Usage | GPU-Util  Compute M. |\n",
      "|                                         |                        |               MIG M. |\n",
      "|=========================================+========================+======================|\n",
      "|   0  NVIDIA RTX A5000               Off |   00000000:01:00.0 Off |                  Off |\n",
      "| 30%   28C    P0             69W /  230W |     239MiB /  24564MiB |      0%      Default |\n",
      "|                                         |                        |                  N/A |\n",
      "+-----------------------------------------+------------------------+----------------------+\n",
      "                                                                                         \n",
      "+-----------------------------------------------------------------------------------------+\n",
      "| Processes:                                                                              |\n",
      "|  GPU   GI   CI        PID   Type   Process name                              GPU Memory |\n",
      "|        ID   ID                                                               Usage      |\n",
      "|=========================================================================================|\n",
      "|    0   N/A  N/A      1336      G   /usr/lib/xorg/Xorg                            215MiB |\n",
      "|    0   N/A  N/A      1544      G   /usr/bin/gnome-shell                            8MiB |\n",
      "+-----------------------------------------------------------------------------------------+\n"
     ]
    }
   ],
   "source": [
    "import tensorflow as tf\n",
    "import pandas as pd\n",
    "import numpy as np\n",
    "from tensorflow import keras\n",
    "from tensorflow.keras.layers import Dense\n",
    "from sklearn.preprocessing import LabelEncoder\n",
    "from sklearn.metrics import classification_report\n",
    "from tqdm import tqdm\n",
    "\n",
    "import tensorflow_addons as tfa  # AdamW 옵티마이저 사용\n",
    "from sklearn.utils import class_weight\n",
    "import re\n",
    "\n",
    "# Tensorflow 버전과 GPU 사용 여부 확인\n",
    "print(f'TensorFlow version: {tf.__version__}')\n",
    "!nvidia-smi\n"
   ]
  },
  {
   "cell_type": "code",
   "execution_count": null,
   "metadata": {},
   "outputs": [],
   "source": [
    "def load_data(data_path: str) -> pd.DataFrame:\n",
    "    df = pd.read_excel(data_path,\n",
    "                       usecols=['발명의 명칭', '요약', '메인IPC2', '대표청구항'])\n",
    "    df['input'] = df.apply(\n",
    "        lambda row: f\"{row['발명의 명칭']}\\n\\n{row['요약']}\", axis=1)\n",
    "    df = df.drop(columns=['발명의 명칭', '요약', '대표청구항'])\n",
    "    df.columns = ['메인IPC2', '대표청구항']\n",
    "    return df\n",
    "\n",
    "\n",
    "xlsx_path_test = '/home/billy/rd/dataset/DS학술제-모델링경진대회_Valid.xlsx'\n",
    "\n",
    "vocab_path = \"./pretrained/korpat_vocab.txt\"\n",
    "checkpoint_path = \"./pretrained/model.ckpt-381250\"\n",
    "pretrained_model_dir = \"./pretrained/\"\n",
    "save_model_path = \"./korpat_bert_centerloss_model_best.h5\"\n",
    "\n",
    "\n",
    "MAX_SEQ_LEN = 256\n",
    "BATCH_SIZE = 8"
   ]
  },
  {
   "cell_type": "code",
   "execution_count": null,
   "metadata": {},
   "outputs": [
    {
     "name": "stdout",
     "output_type": "stream",
     "text": [
      "레이블 클래스 수: 3\n"
     ]
    }
   ],
   "source": [
    "from korpat_tokenizer import Tokenizer\n",
    "\n",
    "# 데이터 로드\n",
    "df_test = load_data(xlsx_path_test)\n",
    "\n",
    "# 레이블 인코딩\n",
    "label_encoder = LabelEncoder()\n",
    "df_test['label'] = label_encoder.fit_transform(df_test['메인IPC2'])\n",
    "\n",
    "tokenizer = Tokenizer(vocab_path=vocab_path, cased=True)\n",
    "\n",
    "# 데이터셋 생성\n",
    "test_texts = df_test['대표청구항']\n",
    "test_labels = df_test['label']\n",
    "test_data = pd.DataFrame({'sentence': test_texts, 'label': test_labels})\n",
    "\n",
    "num_classes = len(label_encoder.classes_)\n",
    "print(\"레이블 클래스 수:\", num_classes)"
   ]
  },
  {
   "cell_type": "code",
   "execution_count": null,
   "metadata": {},
   "outputs": [
    {
     "name": "stdout",
     "output_type": "stream",
     "text": [
      "\n",
      "===> 테스트데이터 전처리 시작\n"
     ]
    },
    {
     "name": "stderr",
     "output_type": "stream",
     "text": [
      "데이터 전처리 진행중: 602it [00:01, 323.03it/s]\n"
     ]
    }
   ],
   "source": [
    "# 데이터 전처리 함수\n",
    "from tensorflow.keras.utils import to_categorical\n",
    "\n",
    "\n",
    "def preprocessing_dataset(dataset, num_classes):\n",
    "    tokens, indices, labels = [], [], []\n",
    "\n",
    "    for label, sentence in tqdm(zip(dataset['label'], dataset['sentence']), desc=\"데이터 전처리 진행중\"):\n",
    "        # 간단한 데이터 정규화\n",
    "        sentence = re.sub(r\"[^가-힣a-zA-Z0-9\\s]\", \"\", sentence)  # 특수문자 제거\n",
    "        sentence = re.sub(r\"\\s+\", \" \", sentence).strip()        # 여분의 공백 제거\n",
    "        tokens.append(tokenizer.tokenize(sentence))\n",
    "        ids, _ = tokenizer.encode(sentence, max_len=MAX_SEQ_LEN)\n",
    "        indices.append(ids)\n",
    "        # 레이블을 원-핫 인코딩으로 변환\n",
    "        labels.append(to_categorical(label, num_classes=num_classes))\n",
    "\n",
    "    x_data = np.array(indices)\n",
    "    y_data = np.array(labels)\n",
    "    return tokens, x_data, y_data\n",
    "\n",
    "\n",
    "print(\"\\n===> 테스트데이터 전처리 시작\")\n",
    "test_tokens, test_x, test_y = preprocessing_dataset(test_data, num_classes)"
   ]
  },
  {
   "cell_type": "code",
   "execution_count": null,
   "metadata": {},
   "outputs": [
    {
     "name": "stderr",
     "output_type": "stream",
     "text": [
      "2024-11-29 13:40:13.595696: I tensorflow/stream_executor/platform/default/dso_loader.cc:53] Successfully opened dynamic library libcuda.so.1\n",
      "2024-11-29 13:40:13.654614: I tensorflow/stream_executor/cuda/cuda_gpu_executor.cc:937] successful NUMA node read from SysFS had negative value (-1), but there must be at least one NUMA node, so returning NUMA node zero\n",
      "2024-11-29 13:40:13.656311: I tensorflow/core/common_runtime/gpu/gpu_device.cc:1733] Found device 0 with properties: \n",
      "pciBusID: 0000:01:00.0 name: NVIDIA RTX A5000 computeCapability: 8.6\n",
      "coreClock: 1.695GHz coreCount: 64 deviceMemorySize: 23.58GiB deviceMemoryBandwidth: 715.34GiB/s\n",
      "2024-11-29 13:40:13.656326: I tensorflow/stream_executor/platform/default/dso_loader.cc:53] Successfully opened dynamic library libcudart.so.11.0\n",
      "2024-11-29 13:40:13.658915: I tensorflow/stream_executor/platform/default/dso_loader.cc:53] Successfully opened dynamic library libcublas.so.11\n",
      "2024-11-29 13:40:13.658952: I tensorflow/stream_executor/platform/default/dso_loader.cc:53] Successfully opened dynamic library libcublasLt.so.11\n",
      "2024-11-29 13:40:13.672295: I tensorflow/stream_executor/platform/default/dso_loader.cc:53] Successfully opened dynamic library libcufft.so.10\n",
      "2024-11-29 13:40:13.672450: I tensorflow/stream_executor/platform/default/dso_loader.cc:53] Successfully opened dynamic library libcurand.so.10\n",
      "2024-11-29 13:40:13.690377: I tensorflow/stream_executor/platform/default/dso_loader.cc:53] Successfully opened dynamic library libcusolver.so.11\n",
      "2024-11-29 13:40:13.690846: I tensorflow/stream_executor/platform/default/dso_loader.cc:53] Successfully opened dynamic library libcusparse.so.11\n",
      "2024-11-29 13:40:13.690945: I tensorflow/stream_executor/platform/default/dso_loader.cc:53] Successfully opened dynamic library libcudnn.so.8\n",
      "2024-11-29 13:40:13.691010: I tensorflow/stream_executor/cuda/cuda_gpu_executor.cc:937] successful NUMA node read from SysFS had negative value (-1), but there must be at least one NUMA node, so returning NUMA node zero\n",
      "2024-11-29 13:40:13.692731: I tensorflow/stream_executor/cuda/cuda_gpu_executor.cc:937] successful NUMA node read from SysFS had negative value (-1), but there must be at least one NUMA node, so returning NUMA node zero\n",
      "2024-11-29 13:40:13.694200: I tensorflow/core/common_runtime/gpu/gpu_device.cc:1871] Adding visible gpu devices: 0\n",
      "2024-11-29 13:40:13.694660: I tensorflow/core/platform/cpu_feature_guard.cc:142] This TensorFlow binary is optimized with oneAPI Deep Neural Network Library (oneDNN) to use the following CPU instructions in performance-critical operations:  AVX2 FMA\n",
      "To enable them in other operations, rebuild TensorFlow with the appropriate compiler flags.\n",
      "2024-11-29 13:40:13.695583: I tensorflow/stream_executor/cuda/cuda_gpu_executor.cc:937] successful NUMA node read from SysFS had negative value (-1), but there must be at least one NUMA node, so returning NUMA node zero\n",
      "2024-11-29 13:40:13.697108: I tensorflow/core/common_runtime/gpu/gpu_device.cc:1733] Found device 0 with properties: \n",
      "pciBusID: 0000:01:00.0 name: NVIDIA RTX A5000 computeCapability: 8.6\n",
      "coreClock: 1.695GHz coreCount: 64 deviceMemorySize: 23.58GiB deviceMemoryBandwidth: 715.34GiB/s\n",
      "2024-11-29 13:40:13.697139: I tensorflow/stream_executor/cuda/cuda_gpu_executor.cc:937] successful NUMA node read from SysFS had negative value (-1), but there must be at least one NUMA node, so returning NUMA node zero\n",
      "2024-11-29 13:40:13.698567: I tensorflow/stream_executor/cuda/cuda_gpu_executor.cc:937] successful NUMA node read from SysFS had negative value (-1), but there must be at least one NUMA node, so returning NUMA node zero\n",
      "2024-11-29 13:40:13.700013: I tensorflow/core/common_runtime/gpu/gpu_device.cc:1871] Adding visible gpu devices: 0\n",
      "2024-11-29 13:40:13.700028: I tensorflow/stream_executor/platform/default/dso_loader.cc:53] Successfully opened dynamic library libcudart.so.11.0\n",
      "2024-11-29 13:40:13.932533: I tensorflow/core/common_runtime/gpu/gpu_device.cc:1258] Device interconnect StreamExecutor with strength 1 edge matrix:\n",
      "2024-11-29 13:40:13.932556: I tensorflow/core/common_runtime/gpu/gpu_device.cc:1264]      0 \n",
      "2024-11-29 13:40:13.932559: I tensorflow/core/common_runtime/gpu/gpu_device.cc:1277] 0:   N \n",
      "2024-11-29 13:40:13.932728: I tensorflow/stream_executor/cuda/cuda_gpu_executor.cc:937] successful NUMA node read from SysFS had negative value (-1), but there must be at least one NUMA node, so returning NUMA node zero\n",
      "2024-11-29 13:40:13.934024: I tensorflow/stream_executor/cuda/cuda_gpu_executor.cc:937] successful NUMA node read from SysFS had negative value (-1), but there must be at least one NUMA node, so returning NUMA node zero\n",
      "2024-11-29 13:40:13.935107: I tensorflow/stream_executor/cuda/cuda_gpu_executor.cc:937] successful NUMA node read from SysFS had negative value (-1), but there must be at least one NUMA node, so returning NUMA node zero\n",
      "2024-11-29 13:40:13.936214: I tensorflow/core/common_runtime/gpu/gpu_device.cc:1418] Created TensorFlow device (/job:localhost/replica:0/task:0/device:GPU:0 with 22127 MB memory) -> physical GPU (device: 0, name: NVIDIA RTX A5000, pci bus id: 0000:01:00.0, compute capability: 8.6)\n"
     ]
    }
   ],
   "source": [
    "import bert\n",
    "from bert import BertModelLayer\n",
    "\n",
    "\n",
    "class ClsToken(tf.keras.layers.Layer):\n",
    "    def call(self, inputs):\n",
    "        return inputs[:, 0, :]\n",
    "\n",
    "\n",
    "test_dataset = tf.data.Dataset.from_tensor_slices((test_x, test_y))\n",
    "test_dataset = test_dataset.batch(BATCH_SIZE)"
   ]
  },
  {
   "cell_type": "code",
   "execution_count": null,
   "metadata": {},
   "outputs": [
    {
     "name": "stdout",
     "output_type": "stream",
     "text": [
      "WARNING:tensorflow:No training configuration found in the save file, so the model was *not* compiled. Compile it manually.\n"
     ]
    },
    {
     "name": "stderr",
     "output_type": "stream",
     "text": [
      "2024-11-29 13:40:15.359282: I tensorflow/stream_executor/platform/default/dso_loader.cc:53] Successfully opened dynamic library libcublas.so.11\n",
      "2024-11-29 13:40:15.601452: I tensorflow/stream_executor/platform/default/dso_loader.cc:53] Successfully opened dynamic library libcublasLt.so.11\n",
      "2024-11-29 13:40:15.601488: I tensorflow/stream_executor/cuda/cuda_blas.cc:1838] TensorFloat-32 will be used for the matrix multiplication. This will only be logged once.\n"
     ]
    },
    {
     "name": "stdout",
     "output_type": "stream",
     "text": [
      "\n",
      "테스트 정확도: 0.9103\n",
      "\n",
      "분류 리포트:\n",
      "              precision    recall  f1-score   support\n",
      "\n",
      "        G06F     0.8588    0.7374    0.7935        99\n",
      "        G06Q     0.9427    0.9554    0.9490       448\n",
      "        G16H     0.7460    0.8545    0.7966        55\n",
      "\n",
      "    accuracy                         0.9103       602\n",
      "   macro avg     0.8492    0.8491    0.8464       602\n",
      "weighted avg     0.9110    0.9103    0.9095       602\n",
      "\n"
     ]
    }
   ],
   "source": [
    "# 모델 로드\n",
    "model = tf.keras.models.load_model(\n",
    "    save_model_path,\n",
    "    custom_objects={'BertModelLayer': BertModelLayer, 'ClsToken': ClsToken}\n",
    ")\n",
    "\n",
    "# 모델 예측 및 평가\n",
    "test_correct_predictions = 0\n",
    "y_preds = []\n",
    "y_trues = []\n",
    "for test_step_idx, (x_batch_test, y_batch_test) in enumerate(test_dataset):\n",
    "    logits, features = model(x_batch_test, training=False)\n",
    "    y_pred = tf.argmax(logits, axis=1)\n",
    "    y_true = tf.argmax(y_batch_test, axis=1)\n",
    "    test_correct_predictions += tf.reduce_sum(\n",
    "        tf.cast(y_pred == y_true, tf.float32)).numpy()\n",
    "    y_preds.extend(y_pred.numpy())\n",
    "    y_trues.extend(y_true.numpy())\n",
    "\n",
    "test_acc = test_correct_predictions / len(test_x)\n",
    "print(f'\\n테스트 정확도: {test_acc:.4f}')\n",
    "\n",
    "# 분류 리포트 출력\n",
    "print('\\n분류 리포트:')\n",
    "print(classification_report(y_trues, y_preds,\n",
    "      target_names=label_encoder.classes_, digits=4))"
   ]
  }
 ],
 "metadata": {
  "kernelspec": {
   "display_name": "korpatbert",
   "language": "python",
   "name": "python3"
  },
  "language_info": {
   "codemirror_mode": {
    "name": "ipython",
    "version": 3
   },
   "file_extension": ".py",
   "mimetype": "text/x-python",
   "name": "python",
   "nbconvert_exporter": "python",
   "pygments_lexer": "ipython3",
   "version": "3.8.20"
  }
 },
 "nbformat": 4,
 "nbformat_minor": 2
}
